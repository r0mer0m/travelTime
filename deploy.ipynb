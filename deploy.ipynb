{
 "cells": [
  {
   "cell_type": "code",
   "execution_count": 7,
   "metadata": {
    "ExecuteTime": {
     "end_time": "2019-03-23T05:58:55.152359Z",
     "start_time": "2019-03-23T05:58:55.149260Z"
    }
   },
   "outputs": [],
   "source": [
    "import paramiko\n",
    "from os.path import expanduser "
   ]
  },
  {
   "cell_type": "code",
   "execution_count": 8,
   "metadata": {
    "ExecuteTime": {
     "end_time": "2019-03-23T05:58:55.346237Z",
     "start_time": "2019-03-23T05:58:55.343156Z"
    }
   },
   "outputs": [],
   "source": [
    "# from user_definition import *"
   ]
  },
  {
   "cell_type": "markdown",
   "metadata": {},
   "source": [
    "## Assumption : Anaconda, Git (configured)\n",
    "    Still need to check and validate to avoid any issues"
   ]
  },
  {
   "cell_type": "markdown",
   "metadata": {},
   "source": [
    "## 1. SSH to box:"
   ]
  },
  {
   "cell_type": "code",
   "execution_count": 9,
   "metadata": {
    "ExecuteTime": {
     "end_time": "2019-03-23T05:58:55.964771Z",
     "start_time": "2019-03-23T05:58:55.960879Z"
    }
   },
   "outputs": [
    {
     "name": "stdout",
     "output_type": "stream",
     "text": [
      "<paramiko.client.SSHClient object at 0x1095a4400>\n"
     ]
    }
   ],
   "source": [
    "ssh = paramiko.SSHClient()\n",
    "print(ssh)"
   ]
  },
  {
   "cell_type": "markdown",
   "metadata": {},
   "source": [
    "### Add your own ec2_address and key_file"
   ]
  },
  {
   "cell_type": "code",
   "execution_count": 16,
   "metadata": {
    "ExecuteTime": {
     "end_time": "2019-03-23T06:01:30.254585Z",
     "start_time": "2019-03-23T06:01:30.251400Z"
    }
   },
   "outputs": [],
   "source": [
    "ec2_address = \"ec2-18-236-71-48.us-west-2.compute.amazonaws.com\"\n",
    "user = \"ec2-user\"\n",
    "key_file = \"/.AWSkp/r0mer0mOregon.pem\""
   ]
  },
  {
   "cell_type": "code",
   "execution_count": 17,
   "metadata": {
    "ExecuteTime": {
     "end_time": "2019-03-23T06:01:31.264406Z",
     "start_time": "2019-03-23T06:01:30.644002Z"
    },
    "scrolled": true
   },
   "outputs": [],
   "source": [
    "ssh.connect(ec2_address, username = user, key_filename = expanduser(\"~\") + key_file)\n"
   ]
  },
  {
   "cell_type": "markdown",
   "metadata": {},
   "source": [
    "### How to fix it?"
   ]
  },
  {
   "cell_type": "code",
   "execution_count": 18,
   "metadata": {
    "ExecuteTime": {
     "end_time": "2019-03-23T06:01:32.329472Z",
     "start_time": "2019-03-23T06:01:31.934886Z"
    }
   },
   "outputs": [],
   "source": [
    "ssh.set_missing_host_key_policy(paramiko.AutoAddPolicy()) \n",
    "ssh.connect(ec2_address, username = user, key_filename = expanduser(\"~\") + key_file)"
   ]
  },
  {
   "cell_type": "markdown",
   "metadata": {},
   "source": [
    "## 2. Create/Update the environment"
   ]
  },
  {
   "cell_type": "code",
   "execution_count": 19,
   "metadata": {
    "ExecuteTime": {
     "end_time": "2019-03-23T06:01:36.075374Z",
     "start_time": "2019-03-23T06:01:34.735195Z"
    }
   },
   "outputs": [],
   "source": [
    "stdin, stdout, stderr = ssh.exec_command(\"conda env create -f ~/msds603_instructor/environment.yml\")\n",
    "#print(stderr.read())\n",
    "if(b'already exists' in stderr.read()):\n",
    "    stdin, stdout, stderr = ssh.exec_command(\"conda env update -f ~/msds603_instructor/environment.yml\")\n",
    "    #print(stderr.read())\n",
    "    #print(stdout.read())"
   ]
  },
  {
   "cell_type": "markdown",
   "metadata": {},
   "source": [
    "## 3. Check whether the EC2 has git installed."
   ]
  },
  {
   "cell_type": "code",
   "execution_count": null,
   "metadata": {},
   "outputs": [],
   "source": [
    "stdin, stdout, stderr = ssh.exec_command(\"git --version\")"
   ]
  },
  {
   "cell_type": "code",
   "execution_count": null,
   "metadata": {},
   "outputs": [],
   "source": [
    "print(stdout.read())\n",
    "print(stderr.read())"
   ]
  },
  {
   "cell_type": "markdown",
   "metadata": {},
   "source": [
    "## 4. Git clone from github"
   ]
  },
  {
   "cell_type": "markdown",
   "metadata": {},
   "source": [
    "### Assumption : \n",
    "Already configed git user name and password - Don't forget to add dwoodbridge and NICK.\n",
    "\n",
    "There is nothing to be committed on the server - only locals are used for commit."
   ]
  },
  {
   "cell_type": "code",
   "execution_count": null,
   "metadata": {},
   "outputs": [],
   "source": [
    "git_repo_owner = \"MSDS698\"\n",
    "git_repo_name = \"2019-msds603-example\"\n",
    "git_user_id = \"dianewoodbridge\""
   ]
  },
  {
   "cell_type": "code",
   "execution_count": null,
   "metadata": {},
   "outputs": [],
   "source": [
    "if (b\"\" is stderr.read()):\n",
    "    git_clone_command = \"git clone https://github.com/\" + git_user_id + \"/\" + git_repo_name + \".git\"\n",
    "    #git_clone_command = \"git clone https://\" + git_user_id + \"@github.com/\" + git_repo_owner + \"/\" + git_repo_name + \".git\"\n",
    "    stdin, stdout, stderr = ssh.exec_command(git_clone_command)\n",
    "    print(stdout.read())\n",
    "    print(stderr.read())"
   ]
  },
  {
   "cell_type": "markdown",
   "metadata": {},
   "source": [
    "### Individual homework"
   ]
  },
  {
   "cell_type": "code",
   "execution_count": null,
   "metadata": {},
   "outputs": [],
   "source": []
  },
  {
   "cell_type": "markdown",
   "metadata": {},
   "source": [
    "## 5. Create a cron tab -- Group Homework"
   ]
  },
  {
   "cell_type": "code",
   "execution_count": null,
   "metadata": {},
   "outputs": [],
   "source": []
  },
  {
   "cell_type": "code",
   "execution_count": null,
   "metadata": {},
   "outputs": [],
   "source": []
  }
 ],
 "metadata": {
  "kernelspec": {
   "display_name": "Python (MSDS603)",
   "language": "python",
   "name": "msds603"
  },
  "toc": {
   "base_numbering": 1,
   "nav_menu": {},
   "number_sections": true,
   "sideBar": true,
   "skip_h1_title": false,
   "title_cell": "Table of Contents",
   "title_sidebar": "Contents",
   "toc_cell": false,
   "toc_position": {},
   "toc_section_display": true,
   "toc_window_display": false
  },
  "varInspector": {
   "cols": {
    "lenName": 16,
    "lenType": 16,
    "lenVar": 40
   },
   "kernels_config": {
    "python": {
     "delete_cmd_postfix": "",
     "delete_cmd_prefix": "del ",
     "library": "var_list.py",
     "varRefreshCmd": "print(var_dic_list())"
    },
    "r": {
     "delete_cmd_postfix": ") ",
     "delete_cmd_prefix": "rm(",
     "library": "var_list.r",
     "varRefreshCmd": "cat(var_dic_list()) "
    }
   },
   "types_to_exclude": [
    "module",
    "function",
    "builtin_function_or_method",
    "instance",
    "_Feature"
   ],
   "window_display": false
  }
 },
 "nbformat": 4,
 "nbformat_minor": 2
}
